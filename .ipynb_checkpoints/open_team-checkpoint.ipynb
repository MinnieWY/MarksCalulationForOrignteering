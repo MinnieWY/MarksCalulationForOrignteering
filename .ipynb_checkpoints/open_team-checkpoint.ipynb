{
 "cells": [
  {
   "cell_type": "code",
   "execution_count": 9,
   "id": "6f5952be",
   "metadata": {},
   "outputs": [],
   "source": [
    "import pandas as pd\n",
    "\n",
    "ck02 = pd.read_csv('./open_record/open_02.csv')\n",
    "ck02.rename(columns={\"上海街玉器市場由哪個市場遷入？\":\"answer\"},inplace=True)\n",
    "\n",
    "ck02['marks1']='' \n",
    "ck02.loc[ck02.answer == 'correct', 'marks1'] = 40\n",
    "ck02.loc[ck02.answer != 'correct', 'marks1'] = 0\n",
    "ck02.drop(labels=[\"ObjectID\",\"CreationDate\",\"GlobalID\",\"Editor\",\"EditDate\", \"x\",\"y\", \"answer\"], axis=1, inplace=True)\n",
    "\n",
    "ck02.to_csv('result1.csv',sep=',', header=True, index=False)"
   ]
  },
  {
   "cell_type": "code",
   "execution_count": 10,
   "id": "2117b36a",
   "metadata": {
    "scrolled": true
   },
   "outputs": [],
   "source": [
    "import pandas as pd\n",
    "\n",
    "ck07 = pd.read_csv('./open_record/open_07.csv')\n",
    "ck07.rename(columns={\"水月宮的正門兩側對聯是否寫上：「觀空有在皆成幻、音到無聲始見真」\":\"answer\"},inplace=True)\n",
    "\n",
    "ck07['marks2']='' \n",
    "ck07.loc[ck07.answer == 'correct', 'marks2'] = 30\n",
    "ck07.loc[ck07.answer != 'correct', 'marks2'] = 0\n",
    "ck07.drop([\"ObjectID\", \"CreationDate\",\"GlobalID\",\"Editor\",\"EditDate\", \"x\",\"y\", \"answer\"], axis=1, inplace=True)\n",
    "\n",
    "ck07.to_csv('result2.csv',sep=',', header=True, index=False)"
   ]
  },
  {
   "cell_type": "code",
   "execution_count": 11,
   "id": "05509d48",
   "metadata": {},
   "outputs": [
    {
     "data": {
      "text/html": [
       "<div>\n",
       "<style scoped>\n",
       "    .dataframe tbody tr th:only-of-type {\n",
       "        vertical-align: middle;\n",
       "    }\n",
       "\n",
       "    .dataframe tbody tr th {\n",
       "        vertical-align: top;\n",
       "    }\n",
       "\n",
       "    .dataframe thead th {\n",
       "        text-align: right;\n",
       "    }\n",
       "</style>\n",
       "<table border=\"1\" class=\"dataframe\">\n",
       "  <thead>\n",
       "    <tr style=\"text-align: right;\">\n",
       "      <th></th>\n",
       "      <th>Creator</th>\n",
       "      <th>marks1</th>\n",
       "      <th>marks2</th>\n",
       "    </tr>\n",
       "  </thead>\n",
       "  <tbody>\n",
       "    <tr>\n",
       "      <th>0</th>\n",
       "      <td>hkggatut23</td>\n",
       "      <td>40</td>\n",
       "      <td>0</td>\n",
       "    </tr>\n",
       "    <tr>\n",
       "      <th>1</th>\n",
       "      <td>hkggatut31</td>\n",
       "      <td>40</td>\n",
       "      <td>30</td>\n",
       "    </tr>\n",
       "    <tr>\n",
       "      <th>2</th>\n",
       "      <td>hkggatut47</td>\n",
       "      <td>40</td>\n",
       "      <td>30</td>\n",
       "    </tr>\n",
       "  </tbody>\n",
       "</table>\n",
       "</div>"
      ],
      "text/plain": [
       "      Creator  marks1  marks2\n",
       "0  hkggatut23      40       0\n",
       "1  hkggatut31      40      30\n",
       "2  hkggatut47      40      30"
      ]
     },
     "execution_count": 11,
     "metadata": {},
     "output_type": "execute_result"
    }
   ],
   "source": [
    "from glob import glob\n",
    "import pandas as pd\n",
    "\n",
    "files = glob('result*.csv')\n",
    "df_list = [pd.read_csv(file) for file in files] #串列中包含兩個Pandas DataFrame\n",
    "\n",
    "for df in df_list[1:]:  #從第二個Pandas DataFrame開始\n",
    "    result = pd.merge(df_list[0], df, on='Creator')  #逐一基於Creator欄位合併到第一個Pandas DataFrame\n",
    "\n",
    "result.head(3)"
   ]
  },
  {
   "cell_type": "code",
   "execution_count": null,
   "id": "43ac9179",
   "metadata": {},
   "outputs": [],
   "source": []
  }
 ],
 "metadata": {
  "kernelspec": {
   "display_name": "Python 3 (ipykernel)",
   "language": "python",
   "name": "python3"
  },
  "language_info": {
   "codemirror_mode": {
    "name": "ipython",
    "version": 3
   },
   "file_extension": ".py",
   "mimetype": "text/x-python",
   "name": "python",
   "nbconvert_exporter": "python",
   "pygments_lexer": "ipython3",
   "version": "3.9.13"
  }
 },
 "nbformat": 4,
 "nbformat_minor": 5
}
